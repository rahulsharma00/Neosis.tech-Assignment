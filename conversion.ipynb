{
 "cells": [
  {
   "cell_type": "markdown",
   "metadata": {},
   "source": [
    "### Combining both the positive and the negative reviews as one file"
   ]
  },
  {
   "cell_type": "code",
   "execution_count": 12,
   "metadata": {},
   "outputs": [
    {
     "name": "stdout",
     "output_type": "stream",
     "text": [
      "                                              review sentiment\n",
      "0  Yul Brynner was a symbol of villein in the tin...  positive\n",
      "1  This show has been performed live around the c...  negative\n",
      "2  To sum this story up in a few sentences: A tee...  positive\n",
      "3  This is absolutely beyond question the worst m...  negative\n",
      "4  A box with a button provides a couple with the...  negative\n",
      "Combined reviews saved to: /Users/rahulsharma/Desktop/NeosisTech/reviews/test_combined.txt\n"
     ]
    }
   ],
   "source": [
    "import os\n",
    "import pandas as pd\n",
    "\n",
    "# Define the paths to the positive and negative review folders\n",
    "positive_folder = '/Users/rahulsharma/Downloads/aclImdb/test/pos'\n",
    "negative_folder = '/Users/rahulsharma/Downloads/aclImdb/test/neg'\n",
    "\n",
    "# Function to read reviews from a folder and assign sentiment labels\n",
    "def read_reviews(folder, sentiment):\n",
    "    reviews = []\n",
    "    for filename in os.listdir(folder):\n",
    "        if filename.endswith(\".txt\"):\n",
    "            with open(os.path.join(folder, filename), 'r', encoding='utf-8') as file:\n",
    "                review = file.read()\n",
    "                reviews.append({'review': review, 'sentiment': sentiment})\n",
    "    return reviews\n",
    "\n",
    "# Read positive and negative reviews\n",
    "positive_reviews = read_reviews(positive_folder, 'positive')\n",
    "negative_reviews = read_reviews(negative_folder, 'negative')\n",
    "\n",
    "# Combine reviews into a DataFrame\n",
    "reviews_df = pd.DataFrame(positive_reviews + negative_reviews)\n",
    "\n",
    "# Shuffle the DataFrame\n",
    "reviews_df = reviews_df.sample(frac=1, random_state=42).reset_index(drop=True)\n",
    "\n",
    "# Display the DataFrame\n",
    "print(reviews_df.head(5))\n",
    "\n",
    "# Define the path to the output .txt file\n",
    "output_file = '/Users/rahulsharma/Desktop/NeosisTech/reviews_txt/test_combined.txt'\n",
    "\n",
    "# Write the DataFrame to a new .txt file\n",
    "reviews_df.to_csv(output_file, sep='\\t', index=False)\n",
    "\n",
    "print(f\"Combined reviews saved to: {output_file}\")\n"
   ]
  },
  {
   "cell_type": "markdown",
   "metadata": {},
   "source": [
    "### Viewing the txt file"
   ]
  },
  {
   "cell_type": "code",
   "execution_count": 9,
   "metadata": {},
   "outputs": [
    {
     "name": "stdout",
     "output_type": "stream",
     "text": [
      "                                              review sentiment\n",
      "0  Great little thriller. I was expecting some ty...  positive\n",
      "1  Nothing could have saved this movie, not even ...  negative\n",
      "2  This was a good movie. It wasn't your typical ...  positive\n",
      "3  From the pen of Richard Condon (The Manchurian...  negative\n",
      "4  I suppose that today this film has relevance b...  negative\n"
     ]
    }
   ],
   "source": [
    "import pandas as pd\n",
    "\n",
    "# Specify the path to your text file\n",
    "txt_file_path = '/Users/rahulsharma/Desktop/NeosisTech/combined_reviews.txt'\n",
    "\n",
    "# Read the first 5 lines of the text file using pandas\n",
    "data = pd.read_csv(txt_file_path, nrows=5, sep='\\t')\n",
    "\n",
    "# Display the first 5 lines\n",
    "print(data)\n"
   ]
  },
  {
   "cell_type": "markdown",
   "metadata": {},
   "source": [
    "### Converting the txt file into a csv file"
   ]
  },
  {
   "cell_type": "code",
   "execution_count": 21,
   "metadata": {},
   "outputs": [
    {
     "name": "stdout",
     "output_type": "stream",
     "text": [
      "Text file converted and saved to CSV: /Users/rahulsharma/Desktop/NeosisTech/reviews_csv/test.csv\n"
     ]
    }
   ],
   "source": [
    "import pandas as pd\n",
    "\n",
    "# Specify the path to your text file\n",
    "text_file_path = '/Users/rahulsharma/Desktop/NeosisTech/reviews_txt/test_combined.txt'\n",
    "\n",
    "# Read the text file into a pandas DataFrame\n",
    "# Replace 'delimiter' with the actual delimiter used in your text file (e.g., ',' for comma-separated)\n",
    "df = pd.read_csv(text_file_path, delimiter='\\t')\n",
    "\n",
    "# Specify the path to save the resulting CSV file\n",
    "csv_file_path = '/Users/rahulsharma/Desktop/NeosisTech/reviews_csv/test.csv'\n",
    "\n",
    "# Save the DataFrame to a CSV file\n",
    "df.to_csv(csv_file_path, index=False)\n",
    "\n",
    "print(f\"Text file converted and saved to CSV: {csv_file_path}\")\n"
   ]
  },
  {
   "cell_type": "markdown",
   "metadata": {},
   "source": [
    "### Viewing the converted csv file"
   ]
  },
  {
   "cell_type": "code",
   "execution_count": 22,
   "metadata": {},
   "outputs": [
    {
     "name": "stdout",
     "output_type": "stream",
     "text": [
      "                                              review sentiment\n",
      "0  Yul Brynner was a symbol of villein in the tin...  positive\n",
      "1  This show has been performed live around the c...  negative\n",
      "2  To sum this story up in a few sentences: A tee...  positive\n",
      "3  This is absolutely beyond question the worst m...  negative\n",
      "4  A box with a button provides a couple with the...  negative\n",
      "5  First off let me say that this is probably in ...  positive\n",
      "6  Albert Finney and Tom Courtenay are brilliant ...  positive\n",
      "7  I don't know about the rest of the viewers of ...  negative\n",
      "8  Sick of the current cinema output, particularl...  positive\n",
      "9  This movie is beautiful in all ways. It is vis...  positive\n"
     ]
    }
   ],
   "source": [
    "import pandas as pd\n",
    "\n",
    "# Specify the path to your CSV file\n",
    "csv_file_path = '/Users/rahulsharma/Desktop/NeosisTech/reviews_csv/test.csv'\n",
    "\n",
    "# Try reading the CSV file using different parameters\n",
    "data = pd.read_csv(csv_file_path, sep=',', engine='python')\n",
    "\n",
    "# Display the DataFrame\n",
    "print(data.head(10))\n"
   ]
  },
  {
   "cell_type": "markdown",
   "metadata": {},
   "source": [
    "### Shape of the csv file"
   ]
  },
  {
   "cell_type": "code",
   "execution_count": 23,
   "metadata": {},
   "outputs": [
    {
     "data": {
      "text/plain": [
       "(25000, 2)"
      ]
     },
     "execution_count": 23,
     "metadata": {},
     "output_type": "execute_result"
    }
   ],
   "source": [
    "data.shape"
   ]
  }
 ],
 "metadata": {
  "kernelspec": {
   "display_name": "Python 3",
   "language": "python",
   "name": "python3"
  },
  "language_info": {
   "codemirror_mode": {
    "name": "ipython",
    "version": 3
   },
   "file_extension": ".py",
   "mimetype": "text/x-python",
   "name": "python",
   "nbconvert_exporter": "python",
   "pygments_lexer": "ipython3",
   "version": "3.10.4"
  },
  "orig_nbformat": 4
 },
 "nbformat": 4,
 "nbformat_minor": 2
}
