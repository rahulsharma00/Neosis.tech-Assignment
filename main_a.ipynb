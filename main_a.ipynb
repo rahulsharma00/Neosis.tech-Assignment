{
 "cells": [
  {
   "cell_type": "markdown",
   "metadata": {},
   "source": [
    "#### Importing libraries"
   ]
  },
  {
   "cell_type": "code",
   "execution_count": 28,
   "metadata": {},
   "outputs": [
    {
     "name": "stderr",
     "output_type": "stream",
     "text": [
      "[nltk_data] Downloading package stopwords to\n",
      "[nltk_data]     /Users/rahulsharma/nltk_data...\n",
      "[nltk_data]   Package stopwords is already up-to-date!\n"
     ]
    },
    {
     "data": {
      "text/plain": [
       "True"
      ]
     },
     "execution_count": 28,
     "metadata": {},
     "output_type": "execute_result"
    }
   ],
   "source": [
    "import pandas as pd \n",
    "import numpy as np\n",
    "import matplotlib.pyplot as plt\n",
    "import nltk \n",
    "import tensorflow as tf\n",
    "from tensorflow import keras \n",
    "from nltk.tokenize import word_tokenize\n",
    "from keras.preprocessing.text import Tokenizer\n",
    "from keras.utils import pad_sequences\n",
    "from keras.models import Sequential\n",
    "from keras.layers import Embedding, LSTM, Dense, SpatialDropout1D\n",
    "from sklearn.preprocessing import LabelEncoder\n",
    "from sklearn.model_selection import train_test_split\n",
    "from nltk.corpus import stopwords\n",
    "import time \n",
    "nltk.download('stopwords')"
   ]
  },
  {
   "cell_type": "markdown",
   "metadata": {},
   "source": [
    "#### Importing the dataset"
   ]
  },
  {
   "cell_type": "code",
   "execution_count": 29,
   "metadata": {},
   "outputs": [
    {
     "name": "stdout",
     "output_type": "stream",
     "text": [
      "                                              review sentiment\n",
      "0  Great little thriller. I was expecting some ty...  positive\n",
      "1  Nothing could have saved this movie, not even ...  negative\n",
      "2  This was a good movie. It wasn't your typical ...  positive\n",
      "3  From the pen of Richard Condon (The Manchurian...  negative\n",
      "4  I suppose that today this film has relevance b...  negative\n"
     ]
    }
   ],
   "source": [
    "train_dataset = pd.read_csv('/Users/rahulsharma/Desktop/NeosisTech/reviews_csv/train.csv')\n",
    "print(train_dataset.head())"
   ]
  },
  {
   "cell_type": "markdown",
   "metadata": {},
   "source": [
    "#### Cleaning the dataset"
   ]
  },
  {
   "cell_type": "code",
   "execution_count": 30,
   "metadata": {},
   "outputs": [],
   "source": [
    "train_dataset['review'] = train_dataset['review'].replace({'<.*?>': ''}, regex=True)\n",
    "train_dataset['review'] = train_dataset['review'].replace({'[^A-Za-z]': ' '}, regex=True)\n"
   ]
  },
  {
   "cell_type": "markdown",
   "metadata": {},
   "source": [
    "#### Stopwords + Tokenization"
   ]
  },
  {
   "cell_type": "code",
   "execution_count": 31,
   "metadata": {},
   "outputs": [
    {
     "name": "stdout",
     "output_type": "stream",
     "text": [
      "Time taken to compile: 10.56 seconds\n"
     ]
    }
   ],
   "source": [
    "start_time = time.time()\n",
    "\n",
    "corpus = [\n",
    "    [word.lower() for word in word_tokenize(text)]\n",
    "    for text in train_dataset['review']\n",
    "]\n",
    "\n",
    "# Get English stop words\n",
    "stop_words = set(stopwords.words('english'))\n",
    "\n",
    "# Remove stop words from each list of tokenized words in the corpus\n",
    "processed_corpus = [\n",
    "    [word for word in words if word not in stop_words]\n",
    "    for words in corpus\n",
    "]\n",
    "\n",
    "end_time = time.time()\n",
    "time_taken = end_time-start_time\n",
    "print(f\"Time taken to compile: {time_taken:.2f} seconds\")"
   ]
  },
  {
   "cell_type": "markdown",
   "metadata": {},
   "source": [
    "#### Label Encoding"
   ]
  },
  {
   "cell_type": "code",
   "execution_count": 32,
   "metadata": {},
   "outputs": [],
   "source": [
    "label_encoder = LabelEncoder()\n",
    "train_dataset['sentiment'] = label_encoder.fit_transform(train_dataset['sentiment'])\n"
   ]
  },
  {
   "cell_type": "markdown",
   "metadata": {},
   "source": [
    "#### Splitting the dataset into test and train"
   ]
  },
  {
   "cell_type": "code",
   "execution_count": 33,
   "metadata": {},
   "outputs": [],
   "source": [
    "x_train, x_test, y_train, y_test = train_test_split(\n",
    "    processed_corpus, train_dataset['sentiment'], test_size=0.2, random_state=42\n",
    ")"
   ]
  },
  {
   "cell_type": "markdown",
   "metadata": {},
   "source": [
    "#### Tokenization + Pad Sequence"
   ]
  },
  {
   "cell_type": "code",
   "execution_count": 34,
   "metadata": {},
   "outputs": [],
   "source": [
    "num_words = 10000  # you can adjust this based on your dataset\n",
    "tokenizer = Tokenizer(num_words=num_words)\n",
    "tokenizer.fit_on_texts(x_train)\n",
    "\n",
    "x_train = tokenizer.texts_to_sequences(x_train)\n",
    "x_train = pad_sequences(x_train, maxlen=128, truncating='post', padding='post')\n",
    "\n",
    "x_test = tokenizer.texts_to_sequences(x_test)\n",
    "x_test = pad_sequences(x_test, maxlen=128, truncating='post', padding='post')"
   ]
  },
  {
   "cell_type": "markdown",
   "metadata": {},
   "source": [
    "#### LSTM Architecture"
   ]
  },
  {
   "cell_type": "code",
   "execution_count": 35,
   "metadata": {},
   "outputs": [
    {
     "name": "stdout",
     "output_type": "stream",
     "text": [
      "Model: \"sequential_1\"\n",
      "_________________________________________________________________\n",
      " Layer (type)                Output Shape              Param #   \n",
      "=================================================================\n",
      " embedding_1 (Embedding)     (None, 128, 50)           500000    \n",
      "                                                                 \n",
      " spatial_dropout1d_1 (Spati  (None, 128, 50)           0         \n",
      " alDropout1D)                                                    \n",
      "                                                                 \n",
      " lstm_1 (LSTM)               (None, 128)               91648     \n",
      "                                                                 \n",
      " dense_1 (Dense)             (None, 1)                 129       \n",
      "                                                                 \n",
      "=================================================================\n",
      "Total params: 591777 (2.26 MB)\n",
      "Trainable params: 591777 (2.26 MB)\n",
      "Non-trainable params: 0 (0.00 Byte)\n",
      "_________________________________________________________________\n",
      "None\n"
     ]
    }
   ],
   "source": [
    "EMBED_DIM = 50\n",
    "LSTM_OUT = 128\n",
    "\n",
    "model = Sequential()\n",
    "model.add(Embedding(num_words, EMBED_DIM, input_length=128))\n",
    "model.add(SpatialDropout1D(0.4))\n",
    "model.add(LSTM(LSTM_OUT, dropout=0.2))\n",
    "model.add(Dense(1, activation='sigmoid'))  # Changed to 'sigmoid' for binary classification\n",
    "model.compile(optimizer='adam', loss='binary_crossentropy', metrics=['accuracy'])\n",
    "\n",
    "print(model.summary())"
   ]
  },
  {
   "cell_type": "markdown",
   "metadata": {},
   "source": [
    "#### Fitting the model"
   ]
  },
  {
   "cell_type": "code",
   "execution_count": 36,
   "metadata": {},
   "outputs": [
    {
     "name": "stdout",
     "output_type": "stream",
     "text": [
      "Epoch 1/5\n",
      "157/157 [==============================] - 34s 195ms/step - loss: 0.6935 - accuracy: 0.5196\n",
      "Epoch 2/5\n",
      "157/157 [==============================] - 33s 208ms/step - loss: 0.4759 - accuracy: 0.7829\n",
      "Epoch 3/5\n",
      "157/157 [==============================] - 30s 189ms/step - loss: 0.2837 - accuracy: 0.8973\n",
      "Epoch 4/5\n",
      "157/157 [==============================] - 32s 205ms/step - loss: 0.2597 - accuracy: 0.9108\n",
      "Epoch 5/5\n",
      "157/157 [==============================] - 31s 199ms/step - loss: 0.1947 - accuracy: 0.9345\n",
      "Time taken to compile: 159.44 seconds\n"
     ]
    }
   ],
   "source": [
    "start = time.time()\n",
    "model.fit(x_train, y_train, batch_size=128, epochs=5, verbose=1)\n",
    "end = time.time()\n",
    "total = end-start\n",
    "print(f\"Time taken to compile: {total:.2f} seconds\")"
   ]
  },
  {
   "cell_type": "markdown",
   "metadata": {},
   "source": [
    "## Evaluation on train dataset"
   ]
  },
  {
   "cell_type": "markdown",
   "metadata": {},
   "source": [
    "#### Model evaluation on the train set "
   ]
  },
  {
   "cell_type": "code",
   "execution_count": 37,
   "metadata": {},
   "outputs": [
    {
     "name": "stdout",
     "output_type": "stream",
     "text": [
      "625/625 [==============================] - 13s 21ms/step - loss: 0.1275 - accuracy: 0.9622\n",
      "Training Accuracy: 0.9622499942779541\n",
      "Train loss:  0.12754063308238983\n"
     ]
    }
   ],
   "source": [
    "train_loss, train_accuracy = model.evaluate(x_train, y_train, verbose=1)\n",
    "print('Training Accuracy:', train_accuracy)\n",
    "print(\"Train loss: \", train_loss)"
   ]
  },
  {
   "cell_type": "markdown",
   "metadata": {},
   "source": [
    "#### Model evaluation on the test set "
   ]
  },
  {
   "cell_type": "code",
   "execution_count": 38,
   "metadata": {},
   "outputs": [
    {
     "name": "stdout",
     "output_type": "stream",
     "text": [
      "157/157 [==============================] - 4s 24ms/step - loss: 0.3389 - accuracy: 0.8776\n",
      "Test Loss: 0.33891409635543823\n",
      "Test Accuracy: 0.8776000142097473\n"
     ]
    }
   ],
   "source": [
    "loss, accuracy = model.evaluate(x_test, y_test, verbose=1)\n",
    "print('Test Loss:', loss)\n",
    "print('Test Accuracy:', accuracy)"
   ]
  },
  {
   "cell_type": "markdown",
   "metadata": {},
   "source": [
    "#### Calculate total predictions, correct predictions, and incorrect predictions\n"
   ]
  },
  {
   "cell_type": "code",
   "execution_count": 39,
   "metadata": {},
   "outputs": [
    {
     "name": "stdout",
     "output_type": "stream",
     "text": [
      "157/157 [==============================] - 4s 22ms/step\n",
      "Total Predictions: 5000\n",
      "Correct Predictions: 4388\n",
      "Incorrect Predictions: 612\n"
     ]
    }
   ],
   "source": [
    "# Predictions on the test set\n",
    "y_pred = (model.predict(x_test) > 0.5).astype(int).flatten()\n",
    "\n",
    "# Calculate total predictions, correct predictions, and incorrect predictions\n",
    "total_predictions = len(y_test)\n",
    "correct_predictions = np.sum(y_test == y_pred)\n",
    "incorrect_predictions = total_predictions - correct_predictions\n",
    "\n",
    "print('Total Predictions:', total_predictions)\n",
    "print('Correct Predictions:', correct_predictions)\n",
    "print('Incorrect Predictions:', incorrect_predictions)"
   ]
  },
  {
   "cell_type": "markdown",
   "metadata": {},
   "source": [
    "#### Predicting accuracy of a single review"
   ]
  },
  {
   "cell_type": "code",
   "execution_count": 40,
   "metadata": {},
   "outputs": [
    {
     "name": "stdout",
     "output_type": "stream",
     "text": [
      "1/1 [==============================] - 0s 32ms/step\n",
      "Predicted Sentiment: Positive\n",
      "Predicted Probability: 0.9788920879364014\n",
      "Test Accuracy: 0.8776000142097473\n"
     ]
    }
   ],
   "source": [
    "# Input your review here\n",
    "positive_review = \"This movie is an absolute masterpiece! The acting is superb, the storyline is captivating, and the cinematography is breathtaking. I couldn't help but be immersed in the characters and their journey. A must-watch for any movie lover!\"\n",
    "\n",
    "# Preprocess the review\n",
    "review_sequence = [positive_review]\n",
    "review_sequence = [review.lower() for review in review_sequence]\n",
    "review_sequence = tokenizer.texts_to_sequences(review_sequence)\n",
    "review_sequence_padded = pad_sequences(review_sequence, maxlen=128, truncating='post', padding='post')\n",
    "\n",
    "# Predict sentiment\n",
    "predicted_sentiment = model.predict(review_sequence_padded)[0]\n",
    "\n",
    "# Interpret the prediction\n",
    "if predicted_sentiment >= 0.5:\n",
    "    sentiment_label = 'Positive'\n",
    "else:\n",
    "    sentiment_label = 'Negative'\n",
    "\n",
    "print(f\"Predicted Sentiment: {sentiment_label}\")\n",
    "print(f\"Predicted Probability: {predicted_sentiment[0]}\")\n",
    "print(f\"Test Accuracy: {accuracy}\")\n"
   ]
  },
  {
   "cell_type": "markdown",
   "metadata": {},
   "source": [
    "## Evaluation on test dataset"
   ]
  },
  {
   "cell_type": "code",
   "execution_count": 41,
   "metadata": {},
   "outputs": [],
   "source": [
    "test_dataset = pd.read_csv('/Users/rahulsharma/Desktop/NeosisTech/reviews_csv/test.csv')"
   ]
  },
  {
   "cell_type": "code",
   "execution_count": 42,
   "metadata": {},
   "outputs": [
    {
     "name": "stdout",
     "output_type": "stream",
     "text": [
      "782/782 [==============================] - 17s 21ms/step - loss: 0.4118 - accuracy: 0.8534\n",
      " Test Dataset Loss: 0.411791056394577\n",
      " Test Dataset Accuracy: 0.8533807396888733\n"
     ]
    }
   ],
   "source": [
    "# Assuming 'test_dataset' is the DataFrame from the new test set\n",
    "test_dataset['review'] = test_dataset['review'].replace({'<.*?>': ''}, regex=True)\n",
    "test_dataset['review'] = test_dataset['review'].replace({'[^A-Za-z]': ' '}, regex=True)\n",
    "\n",
    "# Tokenize and convert to lowercase for each text in the 'review' column of the test set\n",
    "corpus_test = [\n",
    "    [word.lower() for word in word_tokenize(text)]\n",
    "    for text in test_dataset['review']\n",
    "]\n",
    "\n",
    "# Get English stop words\n",
    "stop_words = set(stopwords.words('english'))\n",
    "\n",
    "# Remove stop words from each list of tokenized words in the test set corpus\n",
    "processed_corpus_test = [\n",
    "    [word for word in words if word not in stop_words]\n",
    "    for words in corpus_test\n",
    "]\n",
    "\n",
    "# Tokenize and pad sequences for the test set\n",
    "x_test_new = tokenizer.texts_to_sequences(processed_corpus_test)\n",
    "x_test_new = pad_sequences(x_test_new, maxlen=128, truncating='post', padding='post')\n",
    "\n",
    "# Encode labels for the test set\n",
    "y_test_new = label_encoder.transform(test_dataset['sentiment'])\n",
    "\n",
    "# Model evaluation on the new test set\n",
    "loss, accuracy = model.evaluate(x_test_new, y_test_new, verbose=1)\n",
    "print(' Test Dataset Loss:', loss)\n",
    "print(' Test Dataset Accuracy:', accuracy)\n"
   ]
  },
  {
   "cell_type": "markdown",
   "metadata": {},
   "source": [
    "#### Calculate total predictions, correct predictions, and incorrect predictions\n"
   ]
  },
  {
   "cell_type": "code",
   "execution_count": 43,
   "metadata": {},
   "outputs": [
    {
     "name": "stdout",
     "output_type": "stream",
     "text": [
      "782/782 [==============================] - 17s 21ms/step\n",
      "Total Predictions: 25000\n",
      "Correct Predictions: 21334\n",
      "Incorrect Predictions: 3666\n"
     ]
    }
   ],
   "source": [
    "# Predictions on the test set\n",
    "y_pred_new = (model.predict(x_test_new) > 0.5).astype(int).flatten()\n",
    "\n",
    "# Calculate total predictions, correct predictions, and incorrect predictions\n",
    "total_predictions = len(y_test_new)\n",
    "correct_predictions = np.sum(y_test_new == y_pred_new)\n",
    "incorrect_predictions = total_predictions - correct_predictions\n",
    "\n",
    "print('Total Predictions:', total_predictions)\n",
    "print('Correct Predictions:', correct_predictions)\n",
    "print('Incorrect Predictions:', incorrect_predictions)"
   ]
  },
  {
   "cell_type": "markdown",
   "metadata": {},
   "source": [
    "#### Confusion Matrix"
   ]
  },
  {
   "cell_type": "code",
   "execution_count": 44,
   "metadata": {},
   "outputs": [
    {
     "data": {
      "image/png": "[encoded data removed]",
      "text/plain": [
       "<Figure size 800x600 with 2 Axes>"
      ]
     },
     "metadata": {},
     "output_type": "display_data"
    },
    {
     "name": "stdout",
     "output_type": "stream",
     "text": [
      "Classification Report (New Test Set):\n",
      "               precision    recall  f1-score   support\n",
      "\n",
      "           0       0.84      0.88      0.86     12500\n",
      "           1       0.87      0.83      0.85     12500\n",
      "\n",
      "    accuracy                           0.85     25000\n",
      "   macro avg       0.85      0.85      0.85     25000\n",
      "weighted avg       0.85      0.85      0.85     25000\n",
      "\n"
     ]
    }
   ],
   "source": [
    "from sklearn.metrics import confusion_matrix, classification_report\n",
    "import seaborn as sns\n",
    "import matplotlib.pyplot as plt\n",
    "\n",
    "# Confusion matrix\n",
    "conf_matrix = confusion_matrix(y_test_new, y_pred_new)\n",
    "\n",
    "# Plot confusion matrix\n",
    "plt.figure(figsize=(8, 6))\n",
    "sns.heatmap(conf_matrix, annot=True, fmt='d', cmap='Blues', xticklabels=['Negative', 'Positive'], yticklabels=['Negative', 'Positive'])\n",
    "plt.xlabel('Predicted Labels')\n",
    "plt.ylabel('True Labels')\n",
    "plt.title('Confusion Matrix - New Test Set')\n",
    "plt.show()\n",
    "\n",
    "# Classification report\n",
    "print('Classification Report (New Test Set):\\n', classification_report(y_test_new, y_pred_new))\n"
   ]
  }
 ],
 "metadata": {
  "kernelspec": {
   "display_name": "Python 3",
   "language": "python",
   "name": "python3"
  },
  "language_info": {
   "codemirror_mode": {
    "name": "ipython",
    "version": 3
   },
   "file_extension": ".py",
   "mimetype": "text/x-python",
   "name": "python",
   "nbconvert_exporter": "python",
   "pygments_lexer": "ipython3",
   "version": "3.10.4"
  },
  "orig_nbformat": 4
 },
 "nbformat": 4,
 "nbformat_minor": 2
}
